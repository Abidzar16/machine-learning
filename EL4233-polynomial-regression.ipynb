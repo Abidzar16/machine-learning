{
 "cells": [
  {
   "cell_type": "code",
   "execution_count": 18,
   "metadata": {
    "collapsed": true
   },
   "outputs": [],
   "source": [
    "# Set up, diambil dari 04_training_linear_models.ipynb"
   ]
  },
  {
   "cell_type": "code",
   "execution_count": 19,
   "metadata": {
    "collapsed": true
   },
   "outputs": [],
   "source": [
    "#simple ML\n",
    "# Python ≥3.5 is required\n",
    "import sys\n",
    "assert sys.version_info >= (3, 5)\n",
    "\n",
    "# Common imports\n",
    "import numpy as np\n",
    "import os\n",
    "\n",
    "# to make this notebook's output stable across runs\n",
    "np.random.seed(42)\n",
    "\n",
    "# To plot pretty figures\n",
    "%matplotlib inline\n",
    "import matplotlib as mpl\n",
    "import matplotlib.pyplot as plt\n",
    "mpl.rc('axes', labelsize=14)\n",
    "mpl.rc('xtick', labelsize=12)\n",
    "mpl.rc('ytick', labelsize=12)\n",
    "\n",
    "# Where to save the figures\n",
    "PROJECT_ROOT_DIR = \".\"\n",
    "CHAPTER_ID = \"training_linear_models\"\n",
    "\n",
    "def save_fig(fig_id, tight_layout=True):\n",
    "    path = os.path.join(PROJECT_ROOT_DIR, \"images\", CHAPTER_ID, fig_id + \".png\")\n",
    "    print(\"Saving figure\", fig_id)\n",
    "    if tight_layout:\n",
    "        plt.tight_layout()\n",
    "    plt.savefig(path, format='png', dpi=300)\n",
    "\n",
    "# Ignore useless warnings (see SciPy issue #5998)\n",
    "import warnings\n",
    "warnings.filterwarnings(action=\"ignore\", message=\"^internal gelsd\")"
   ]
  },
  {
   "cell_type": "code",
   "execution_count": 20,
   "metadata": {
    "collapsed": true
   },
   "outputs": [],
   "source": [
    "import sklearn\n",
    "import math\n",
    "import numpy as np"
   ]
  },
  {
   "cell_type": "code",
   "execution_count": 21,
   "metadata": {
    "collapsed": true
   },
   "outputs": [],
   "source": [
    "# membuat grafik sinusoidal\n",
    "sin_titik=201\n",
    "sin_x=np.linspace(0, 1, sin_titik).reshape(sin_titik, 1)\n",
    "sin_y=np.ones(sin_titik)\n",
    "for i in range(sin_titik):    \n",
    "    sin_y[i]=math.sin(2*math.pi*sin_x[i])\n",
    "    # print(sin_x[i],sin_y[i])"
   ]
  },
  {
   "cell_type": "code",
   "execution_count": 22,
   "metadata": {},
   "outputs": [
    {
     "name": "stdout",
     "output_type": "stream",
     "text": [
      "Saving figure simple_sin\n"
     ]
    },
    {
     "data": {
      "image/png": "[encoded data removed]",
      "text/plain": [
       "<matplotlib.figure.Figure at 0x1a1f612e80>"
      ]
     },
     "metadata": {},
     "output_type": "display_data"
    }
   ],
   "source": [
    "# plot dengan matplotlib. manual: https://matplotlib.org/api/_as_gen/matplotlib.pyplot.plot.html\n",
    "plt.plot(sin_x, sin_y, \"b:\") # blue line\n",
    "plt.xlabel(\"$x_1$\", fontsize=18)\n",
    "plt.ylabel(\"$y$\", rotation=0, fontsize=18)\n",
    "plt.axis([0, 1, -1, 1])\n",
    "save_fig(\"simple_sin\")\n",
    "plt.show()"
   ]
  },
  {
   "cell_type": "markdown",
   "metadata": {},
   "source": [
    "**make random train set**"
   ]
  },
  {
   "cell_type": "code",
   "execution_count": 23,
   "metadata": {
    "collapsed": true
   },
   "outputs": [],
   "source": [
    "import random"
   ]
  },
  {
   "cell_type": "code",
   "execution_count": 24,
   "metadata": {
    "collapsed": true
   },
   "outputs": [],
   "source": [
    "# membuat training set\n",
    "random.seed(a=11)\n",
    "np.random.seed(11)\n",
    "s=random.getstate()\n",
    "random_jumlah=10\n",
    "train_x = np.random.rand(random_jumlah, 1)\n",
    "train_y = np.ones(random_jumlah)\n",
    "for i in range (random_jumlah):\n",
    "    train_y[i] = math.sin(2*math.pi*train_x[i])+random.gauss(0,0.1)\n",
    "    #random_y[i] = math.sin(2*math.pi*random_x[i])+random.random()*0.1\n"
   ]
  },
  {
   "cell_type": "code",
   "execution_count": 26,
   "metadata": {
    "collapsed": true
   },
   "outputs": [],
   "source": [
    "# membuat validation set\n",
    "random.seed(a=154341)\n",
    "np.random.seed(11854)\n",
    "s=random.getstate()\n",
    "random_jumlah=10\n",
    "valid_x = np.random.rand(random_jumlah, 1)\n",
    "valid_y = np.ones(random_jumlah)\n",
    "for i in range (random_jumlah):\n",
    "    valid_y[i] = math.sin(2*math.pi*valid_x[i])+random.gauss(0,0.1)"
   ]
  },
  {
   "cell_type": "code",
   "execution_count": 27,
   "metadata": {},
   "outputs": [
    {
     "name": "stdout",
     "output_type": "stream",
     "text": [
      "Saving figure simple_sin_dataset\n"
     ]
    },
    {
     "data": {
      "image/png": "[encoded data removed]",
      "text/plain": [
       "<matplotlib.figure.Figure at 0x1a1f62fb38>"
      ]
     },
     "metadata": {},
     "output_type": "display_data"
    }
   ],
   "source": [
    "\n",
    "plt.plot(sin_x, sin_y, \"b:\",label='original function')\n",
    "plt.plot(train_x, train_y, \"bo\",label='training set') # training set\n",
    "plt.plot(valid_x, valid_y, \"gx\",label='validation set') # validation set\n",
    "\n",
    "\n",
    "plt.xlabel(\"$x_1$\", fontsize=18)\n",
    "plt.ylabel(\"$y$\", rotation=0, fontsize=18)\n",
    "plt.axis([0, 1, -1.5, 1.5])\n",
    "save_fig(\"simple_sin_dataset\")\n",
    "plt.show()"
   ]
  },
  {
   "cell_type": "code",
   "execution_count": 28,
   "metadata": {
    "collapsed": true
   },
   "outputs": [],
   "source": [
    "report_train_mse=np.zeros(10)\n",
    "report_valid_mse=np.zeros(10)"
   ]
  },
  {
   "cell_type": "code",
   "execution_count": 66,
   "metadata": {
    "collapsed": true
   },
   "outputs": [],
   "source": [
    "derajat_polinom=7\n",
    "from sklearn.preprocessing import PolynomialFeatures\n",
    "poly_features = PolynomialFeatures(degree=derajat_polinom, include_bias=False)\n",
    "train_x_poly = poly_features.fit_transform(train_x)"
   ]
  },
  {
   "cell_type": "code",
   "execution_count": 67,
   "metadata": {},
   "outputs": [
    {
     "data": {
      "text/plain": [
       "(0.052996230118760777,\n",
       " array([    5.23004476,    31.78580127,  -412.02256606,  1515.5581267 ,\n",
       "        -2658.96762856,  2242.01042475,  -724.55304359]))"
      ]
     },
     "execution_count": 67,
     "metadata": {},
     "output_type": "execute_result"
    }
   ],
   "source": [
    "from sklearn.linear_model import LinearRegression\n",
    "\n",
    "lin_reg = LinearRegression()\n",
    "lin_reg.fit(train_x_poly, train_y)\n",
    "lin_reg.intercept_, lin_reg.coef_"
   ]
  },
  {
   "cell_type": "code",
   "execution_count": 68,
   "metadata": {
    "collapsed": true
   },
   "outputs": [],
   "source": [
    "train_y_predict=lin_reg.predict(train_x_poly)"
   ]
  },
  {
   "cell_type": "code",
   "execution_count": 69,
   "metadata": {},
   "outputs": [
    {
     "data": {
      "text/plain": [
       "(10,)"
      ]
     },
     "execution_count": 69,
     "metadata": {},
     "output_type": "execute_result"
    }
   ],
   "source": [
    "train_y_predict.shape"
   ]
  },
  {
   "cell_type": "code",
   "execution_count": 70,
   "metadata": {
    "collapsed": true
   },
   "outputs": [],
   "source": [
    "sin_x_poly=poly_features.fit_transform(sin_x)"
   ]
  },
  {
   "cell_type": "code",
   "execution_count": 71,
   "metadata": {
    "collapsed": true
   },
   "outputs": [],
   "source": [
    "sin_y_predict=lin_reg.predict(sin_x_poly)"
   ]
  },
  {
   "cell_type": "code",
   "execution_count": 72,
   "metadata": {},
   "outputs": [
    {
     "name": "stdout",
     "output_type": "stream",
     "text": [
      "Saving figure simple-sin-prediction\n"
     ]
    },
    {
     "data": {
      "image/png": "[encoded data removed]",
      "text/plain": [
       "<matplotlib.figure.Figure at 0x1a1fcdb128>"
      ]
     },
     "metadata": {},
     "output_type": "display_data"
    }
   ],
   "source": [
    "# grafik menunjukkan overfitting\n",
    "plt.plot(sin_x, sin_y, \"b:\",label='original function')\n",
    "plt.plot(train_x, train_y, \"bo\",label='training set') # training set\n",
    "plt.plot(valid_x, valid_y, \"gx\",label='validation set') # validation set\n",
    "plt.plot(sin_x, sin_y_predict, \"r-\",label='prediction')\n",
    "\n",
    "plt.xlabel(\"$x_1$\", fontsize=18)\n",
    "plt.ylabel(\"$y$\", rotation=0, fontsize=18)\n",
    "plt.axis([0, 1, -1.50,1.50])\n",
    "\n",
    "plt.legend(loc='lower left')\n",
    "save_fig(\"simple-sin-prediction\")\n",
    "plt.show()"
   ]
  },
  {
   "cell_type": "code",
   "execution_count": 65,
   "metadata": {},
   "outputs": [
    {
     "data": {
      "text/plain": [
       "(0.27248512894673649,\n",
       " array([ -2.46209724e+01,   1.19849683e+03,  -1.30129927e+04,\n",
       "          6.12794841e+04,  -1.49559301e+05,   1.97583890e+05,\n",
       "         -1.34097454e+05,   3.66519740e+04]))"
      ]
     },
     "execution_count": 65,
     "metadata": {},
     "output_type": "execute_result"
    }
   ],
   "source": [
    "lin_reg.intercept_, lin_reg.coef_"
   ]
  },
  {
   "cell_type": "code",
   "execution_count": 252,
   "metadata": {},
   "outputs": [
    {
     "data": {
      "text/plain": [
       "(39.06412452587663,\n",
       " array([-5.66284363e+03,  2.40105832e+05, -2.98053827e+06,  1.72150962e+07,\n",
       "        -5.47207462e+07,  1.01720799e+08, -1.10214220e+08,  6.44503689e+07,\n",
       "        -1.57099781e+07]))"
      ]
     },
     "execution_count": 252,
     "metadata": {},
     "output_type": "execute_result"
    }
   ],
   "source": [
    "lin_reg.intercept_, np.transpose(lin_reg.coef_)"
   ]
  },
  {
   "cell_type": "code",
   "execution_count": 253,
   "metadata": {
    "collapsed": true
   },
   "outputs": [],
   "source": [
    "#menghitung MSE untuk training set\n"
   ]
  },
  {
   "cell_type": "code",
   "execution_count": 254,
   "metadata": {
    "collapsed": true
   },
   "outputs": [],
   "source": [
    "train_mse=sklearn.metrics.mean_squared_error(train_y, train_y_predict)"
   ]
  },
  {
   "cell_type": "code",
   "execution_count": 255,
   "metadata": {
    "collapsed": true
   },
   "outputs": [],
   "source": [
    "#menghitung MSE untuk validation set"
   ]
  },
  {
   "cell_type": "code",
   "execution_count": 256,
   "metadata": {
    "collapsed": true
   },
   "outputs": [],
   "source": [
    "valid_x_poly = poly_features.fit_transform(valid_x)"
   ]
  },
  {
   "cell_type": "code",
   "execution_count": 257,
   "metadata": {
    "collapsed": true
   },
   "outputs": [],
   "source": [
    "valid_y_predict=lin_reg.predict(valid_x_poly)"
   ]
  },
  {
   "cell_type": "code",
   "execution_count": 258,
   "metadata": {
    "collapsed": true
   },
   "outputs": [],
   "source": [
    "valid_mse=sklearn.metrics.mean_squared_error(valid_y, valid_y_predict)"
   ]
  },
  {
   "cell_type": "code",
   "execution_count": 259,
   "metadata": {
    "collapsed": true
   },
   "outputs": [],
   "source": [
    "report_train_mse[derajat_polinom]=train_mse\n",
    "report_valid_mse[derajat_polinom]=valid_mse"
   ]
  },
  {
   "cell_type": "code",
   "execution_count": 260,
   "metadata": {},
   "outputs": [
    {
     "data": {
      "text/plain": [
       "array([0.00000000e+00, 1.48083670e-01, 1.09346849e-01, 8.09319018e-03,\n",
       "       3.05102595e-03, 2.78916116e-03, 1.77857621e-03, 1.52702390e-03,\n",
       "       7.76404491e-04, 7.83482813e-17])"
      ]
     },
     "execution_count": 260,
     "metadata": {},
     "output_type": "execute_result"
    }
   ],
   "source": [
    "report_train_mse"
   ]
  },
  {
   "cell_type": "code",
   "execution_count": 261,
   "metadata": {},
   "outputs": [
    {
     "data": {
      "text/plain": [
       "array([0.00000000e+00, 4.11962803e-01, 3.45127966e-01, 3.43384372e-02,\n",
       "       4.62468451e-02, 4.36292175e-02, 5.81685915e-02, 5.37146319e-02,\n",
       "       7.70279262e-01, 1.35979531e+04])"
      ]
     },
     "execution_count": 261,
     "metadata": {},
     "output_type": "execute_result"
    }
   ],
   "source": [
    "report_valid_mse"
   ]
  },
  {
   "cell_type": "code",
   "execution_count": null,
   "metadata": {
    "collapsed": true
   },
   "outputs": [],
   "source": []
  },
  {
   "cell_type": "code",
   "execution_count": 269,
   "metadata": {},
   "outputs": [
    {
     "data": {
      "image/png": "[encoded data removed]",
      "text/plain": [
       "<Figure size 432x288 with 1 Axes>"
      ]
     },
     "metadata": {
      "needs_background": "light"
     },
     "output_type": "display_data"
    }
   ],
   "source": [
    "# validation vs training error, in terms of M\n",
    "plt.plot(report_train_mse, \"b:\",label='training error')\n",
    "\n",
    "plt.plot(report_valid_mse, \"r-\",label='validation error') # training set\n",
    "plt.axis([1, 10, 0,1])\n",
    "plt.legend(loc='upper left')\n",
    "save_fig(\"simple_sin_error\")\n",
    "plt.xlabel(\"$derajat polinom$\", fontsize=18)\n",
    "plt.show()"
   ]
  },
  {
   "cell_type": "code",
   "execution_count": null,
   "metadata": {
    "collapsed": true
   },
   "outputs": [],
   "source": []
  },
  {
   "cell_type": "code",
   "execution_count": null,
   "metadata": {
    "collapsed": true
   },
   "outputs": [],
   "source": []
  }
 ],
 "metadata": {
  "kernelspec": {
   "display_name": "Python 3",
   "language": "python",
   "name": "python3"
  },
  "language_info": {
   "codemirror_mode": {
    "name": "ipython",
    "version": 3
   },
   "file_extension": ".py",
   "mimetype": "text/x-python",
   "name": "python",
   "nbconvert_exporter": "python",
   "pygments_lexer": "ipython3",
   "version": "3.6.3"
  }
 },
 "nbformat": 4,
 "nbformat_minor": 2
}
